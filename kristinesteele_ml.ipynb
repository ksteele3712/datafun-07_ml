{
 "cells": [
  {
   "cell_type": "markdown",
   "id": "8e3cf31e",
   "metadata": {},
   "source": [
    "## Machine Learning Project\n",
    "\n",
    "Kristine Steele\n",
    "\n",
    "10/05/2025\n",
    "\n",
    "This project demonstates how we can make a \"line of best fit\" to model the meaning of our data. It is a sort of cause and effect pattern. Consequently, our line is relatively predictive in natue, helping us to see likely future results depending on our input."
   ]
  }
 ],
 "metadata": {
  "kernelspec": {
   "display_name": ".venv",
   "language": "python",
   "name": "python3"
  },
  "language_info": {
   "name": "python",
   "version": "3.13.7"
  }
 },
 "nbformat": 4,
 "nbformat_minor": 5
}
