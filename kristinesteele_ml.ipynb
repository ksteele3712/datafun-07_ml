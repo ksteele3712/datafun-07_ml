{
 "cells": [
  {
   "cell_type": "markdown",
   "id": "8e3cf31e",
   "metadata": {},
   "source": [
    "# 🤖 Machine Learning Project\n",
    "\n",
    "**Author:** Kristine Steele\n",
    "\n",
    "**Date:** 10/05/2025\n",
    "\n",
    "**Repository:** [GitHub Project Repository](https://github.com/ksteele3712/datafun-07_ml)\n",
    "\n",
    "---\n",
    "\n",
    "## Project Overview\n",
    "\n",
    "This project demonstrates how we can make a \"line of best fit\" to model the meaning of our data. It is a sort of cause and effect pattern. Consequently, our line is relatively predictive in nature, helping us to see likely future results depending on our input."
   ]
  },
  {
   "cell_type": "markdown",
   "id": "7aa40f2e",
   "metadata": {},
   "source": [
    "## Python Cell Imports"
   ]
  },
  {
   "cell_type": "code",
   "execution_count": 1,
   "id": "a71686af",
   "metadata": {},
   "outputs": [
    {
     "name": "stdout",
     "output_type": "stream",
     "text": [
      "Run the commented pip install commands in your terminal to install required packages\n"
     ]
    }
   ],
   "source": [
    "# Step 1: Update pip, setuptools, and wheel\n",
    "# py -m pip install --upgrade pip setuptools wheel\n",
    "\n",
    "# Step 2: Install from requirements.txt (recommended approach)\n",
    "# py -m pip install --upgrade -r requirements.txt --timeout 100\n",
    "\n",
    "# Step 3: Or install individual packages for machine learning\n",
    "# Core data analysis packages\n",
    "# py -m pip install pandas numpy matplotlib seaborn\n",
    "\n",
    "# Machine learning packages  \n",
    "# py -m pip install scikit-learn statsmodels\n",
    "\n",
    "# Jupyter notebook support\n",
    "# py -m pip install jupyter ipython ipykernel ipywidgets\n",
    "\n",
    "# Optional: Interactive plotting\n",
    "# py -m pip install plotly\n",
    "\n",
    "# Optional: Advanced Excel support\n",
    "# py -m pip install openpyxl xlsxwriter\n",
    "\n",
    "# Optional: Text processing \n",
    "# py -m pip install nltk\n",
    "\n",
    "print(\"Run the commented pip install commands in your terminal to install required packages\")"
   ]
  },
  {
   "cell_type": "code",
   "execution_count": 1,
   "id": "2ad3191e",
   "metadata": {},
   "outputs": [
    {
     "name": "stdout",
     "output_type": "stream",
     "text": [
      "All packages imported successfully! 📊🤖\n",
      "Pandas version: 2.3.3\n",
      "NumPy version: 2.3.3\n",
      "Matplotlib version: 3.10.6\n"
     ]
    }
   ],
   "source": [
    "# Core data analysis and numerical computing\n",
    "import pandas as pd\n",
    "import numpy as np\n",
    "\n",
    "# Data visualization\n",
    "import matplotlib.pyplot as plt\n",
    "import seaborn as sns\n",
    "\n",
    "# Machine learning\n",
    "from sklearn.model_selection import train_test_split\n",
    "from sklearn.linear_model import LinearRegression\n",
    "from sklearn.metrics import mean_squared_error, r2_score\n",
    "import statsmodels.api as sm\n",
    "\n",
    "# Standard library imports\n",
    "import math\n",
    "import statistics\n",
    "from pathlib import Path\n",
    "\n",
    "# Display settings for better output\n",
    "pd.set_option('display.max_columns', None)\n",
    "pd.set_option('display.width', None)\n",
    "plt.style.use('default')\n",
    "\n",
    "print(\"All packages imported successfully! 📊🤖\")\n",
    "print(f\"Pandas version: {pd.__version__}\")\n",
    "print(f\"NumPy version: {np.__version__}\")\n",
    "print(f\"Matplotlib version: {plt.matplotlib.__version__}\")"
   ]
  }
 ],
 "metadata": {
  "kernelspec": {
   "display_name": ".venv",
   "language": "python",
   "name": "python3"
  },
  "language_info": {
   "codemirror_mode": {
    "name": "ipython",
    "version": 3
   },
   "file_extension": ".py",
   "mimetype": "text/x-python",
   "name": "python",
   "nbconvert_exporter": "python",
   "pygments_lexer": "ipython3",
   "version": "3.13.7"
  }
 },
 "nbformat": 4,
 "nbformat_minor": 5
}
